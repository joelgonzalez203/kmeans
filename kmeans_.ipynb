{
 "cells": [
  {
   "cell_type": "code",
   "execution_count": null,
   "id": "418fcddb",
   "metadata": {},
   "outputs": [],
   "source": [
    "import matplotlib.pyplot as plt\n",
    "import pandas as pd\n",
    "import numpy as np\n",
    "\n",
    "ld = pd.read_csv(\"kmeans_data/label.csv\")\n",
    "rd = pd.read_csv(\"kmeans_data/data.csv\")\n",
    "ld.head()\n",
    "\n",
    "DataCoord = np.array(rd)"
   ]
  },
  {
   "cell_type": "code",
   "execution_count": null,
   "id": "ecd38d88",
   "metadata": {},
   "outputs": [],
   "source": [
    "colors = {0:'b', 1:'r'}"
   ]
  },
  {
   "cell_type": "code",
   "execution_count": null,
   "id": "c75bf3ba",
   "metadata": {},
   "outputs": [],
   "source": [
    "class Custom_kmeans:\n",
    "    \n",
    "    def jaccard_distance(a, b):\n",
    "\n",
    "        distance = len(a.symmetric_difference(b)) / len(a.union(b))\n",
    "\n",
    "        return distances"
   ]
  },
  {
   "cell_type": "code",
   "execution_count": null,
   "id": "570060f1",
   "metadata": {},
   "outputs": [],
   "source": [
    "clusters = Custom_kmeans();\n",
    "clusters.centroids = {}\n",
    "stop_iterating = False\n",
    "\n",
    "for i in range(2):\n",
    "    clusters.centroids[i] = DataCoord[i]\n",
    "\n",
    "for j in range(100):\n",
    "    clusters.classifications = {}\n",
    "\n",
    "    for k in range(2):\n",
    "        clusters.classifications[k] = []\n",
    "\n",
    "    for m in DataCoord:\n",
    "        distance = [np.linalg.norm(m - clusters.centroids[ind]) for ind in clusters.centroids]\n",
    "        clusters.classifications[distance.index(min(distance))].append(m)\n",
    "\n",
    "    prev = dict(clusters.centroids)\n",
    "\n",
    "    for classification in clusters.classifications:\n",
    "        clusters.centroids[classification] = np.average(clusters.classifications[classification],axis=0)\n",
    "\n",
    "    for l in clusters.centroids:\n",
    "        previous = prev[l]\n",
    "        nextc = clusters.centroids[l]\n",
    "        if np.sum((nextc - previous) / previous * 100.0) > 0.001:\n",
    "            print(np.sum((nextc - previous) / previous * 100.0))\n",
    "            stop_iterating = True\n",
    "\n",
    "    if stop_iterating:\n",
    "        print(j)\n",
    "\n",
    "    else:\n",
    "        break\n",
    "\n",
    "                \n",
    "# Plot centroids\n",
    "for i in clusters.centroids:\n",
    "    plt.scatter(clusters.centroids[i][0], clusters.centroids[i][1], marker = \"o\", color = \"k\", s = 300)\n",
    "\n",
    "# Plot Points\n",
    "for j in clusters.classifications:\n",
    "    color = colors[j]\n",
    "    for k in clusters.classifications[j]:\n",
    "        plt.scatter(k[0], k[1], marker = \".\", color = color, s = 300)\n",
    "\n",
    "\n",
    "plt.show()"
   ]
  },
  {
   "cell_type": "code",
   "execution_count": null,
   "id": "7aa08183",
   "metadata": {},
   "outputs": [],
   "source": []
  }
 ],
 "metadata": {
  "kernelspec": {
   "display_name": "Python 3 (ipykernel)",
   "language": "python",
   "name": "python3"
  },
  "language_info": {
   "codemirror_mode": {
    "name": "ipython",
    "version": 3
   },
   "file_extension": ".py",
   "mimetype": "text/x-python",
   "name": "python",
   "nbconvert_exporter": "python",
   "pygments_lexer": "ipython3",
   "version": "3.9.12"
  }
 },
 "nbformat": 4,
 "nbformat_minor": 5
}
